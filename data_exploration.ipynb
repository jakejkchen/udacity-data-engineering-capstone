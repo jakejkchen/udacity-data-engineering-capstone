{
 "cells": [
  {
   "cell_type": "code",
   "execution_count": 1,
   "metadata": {},
   "outputs": [],
   "source": [
    "import numpy as np\n",
    "import pandas as pd\n",
    "from pyspark.sql import SparkSession\n",
    "from pyspark.sql.functions import udf, col\n",
    "from pyspark.sql.types import StringType"
   ]
  },
  {
   "cell_type": "code",
   "execution_count": 2,
   "metadata": {},
   "outputs": [],
   "source": [
    "spark = SparkSession \\\n",
    "        .builder \\\n",
    "        .config(\"spark.jars.packages\", \"saurfang:spark-sas7bdat:2.0.0-s_2.11,org.apache.hadoop:hadoop-aws:2.7.2\") \\\n",
    "        .enableHiveSupport()\\\n",
    "        .getOrCreate()"
   ]
  },
  {
   "cell_type": "markdown",
   "metadata": {},
   "source": [
    "## I94 Data"
   ]
  },
  {
   "cell_type": "code",
   "execution_count": 3,
   "metadata": {},
   "outputs": [],
   "source": [
    "df_i94 = spark.read.format(\"com.github.saurfang.sas.spark\")\\\n",
    "    .load('../../data/18-83510-I94-Data-2016/i94_apr16_sub.sas7bdat')"
   ]
  },
  {
   "cell_type": "code",
   "execution_count": 4,
   "metadata": {},
   "outputs": [
    {
     "name": "stdout",
     "output_type": "stream",
     "text": [
      "root\n",
      " |-- cicid: double (nullable = true)\n",
      " |-- i94yr: double (nullable = true)\n",
      " |-- i94mon: double (nullable = true)\n",
      " |-- i94cit: double (nullable = true)\n",
      " |-- i94res: double (nullable = true)\n",
      " |-- i94port: string (nullable = true)\n",
      " |-- arrdate: double (nullable = true)\n",
      " |-- i94mode: double (nullable = true)\n",
      " |-- i94addr: string (nullable = true)\n",
      " |-- depdate: double (nullable = true)\n",
      " |-- i94bir: double (nullable = true)\n",
      " |-- i94visa: double (nullable = true)\n",
      " |-- count: double (nullable = true)\n",
      " |-- dtadfile: string (nullable = true)\n",
      " |-- visapost: string (nullable = true)\n",
      " |-- occup: string (nullable = true)\n",
      " |-- entdepa: string (nullable = true)\n",
      " |-- entdepd: string (nullable = true)\n",
      " |-- entdepu: string (nullable = true)\n",
      " |-- matflag: string (nullable = true)\n",
      " |-- biryear: double (nullable = true)\n",
      " |-- dtaddto: string (nullable = true)\n",
      " |-- gender: string (nullable = true)\n",
      " |-- insnum: string (nullable = true)\n",
      " |-- airline: string (nullable = true)\n",
      " |-- admnum: double (nullable = true)\n",
      " |-- fltno: string (nullable = true)\n",
      " |-- visatype: string (nullable = true)\n",
      "\n"
     ]
    }
   ],
   "source": [
    "df_i94.printSchema()"
   ]
  },
  {
   "cell_type": "code",
   "execution_count": 9,
   "metadata": {},
   "outputs": [
    {
     "name": "stdout",
     "output_type": "stream",
     "text": [
      "+-----+------+------+------+------+-------+-------+-------+-------+-------+------+-------+-----+--------+--------+-----+-------+-------+-------+-------+-------+--------+------+------+-------+--------------+-----+--------+\n",
      "|cicid| i94yr|i94mon|i94cit|i94res|i94port|arrdate|i94mode|i94addr|depdate|i94bir|i94visa|count|dtadfile|visapost|occup|entdepa|entdepd|entdepu|matflag|biryear| dtaddto|gender|insnum|airline|        admnum|fltno|visatype|\n",
      "+-----+------+------+------+------+-------+-------+-------+-------+-------+------+-------+-----+--------+--------+-----+-------+-------+-------+-------+-------+--------+------+------+-------+--------------+-----+--------+\n",
      "|  6.0|2016.0|   4.0| 692.0| 692.0|    XXX|20573.0|   null|   null|   null|  37.0|    2.0|  1.0|    null|    null| null|      T|   null|      U|   null| 1979.0|10282016|  null|  null|   null| 1.897628485E9| null|      B2|\n",
      "|  7.0|2016.0|   4.0| 254.0| 276.0|    ATL|20551.0|    1.0|     AL|   null|  25.0|    3.0|  1.0|20130811|     SEO| null|      G|   null|      Y|   null| 1991.0|     D/S|     M|  null|   null|  3.73679633E9|00296|      F1|\n",
      "| 15.0|2016.0|   4.0| 101.0| 101.0|    WAS|20545.0|    1.0|     MI|20691.0|  55.0|    2.0|  1.0|20160401|    null| null|      T|      O|   null|      M| 1961.0|09302016|     M|  null|     OS|  6.66643185E8|   93|      B2|\n",
      "| 16.0|2016.0|   4.0| 101.0| 101.0|    NYC|20545.0|    1.0|     MA|20567.0|  28.0|    2.0|  1.0|20160401|    null| null|      O|      O|   null|      M| 1988.0|09302016|  null|  null|     AA|9.246846133E10|00199|      B2|\n",
      "| 17.0|2016.0|   4.0| 101.0| 101.0|    NYC|20545.0|    1.0|     MA|20567.0|   4.0|    2.0|  1.0|20160401|    null| null|      O|      O|   null|      M| 2012.0|09302016|  null|  null|     AA|9.246846313E10|00199|      B2|\n",
      "+-----+------+------+------+------+-------+-------+-------+-------+-------+------+-------+-----+--------+--------+-----+-------+-------+-------+-------+-------+--------+------+------+-------+--------------+-----+--------+\n",
      "only showing top 5 rows\n",
      "\n"
     ]
    }
   ],
   "source": [
    "df_i94.show(5)"
   ]
  },
  {
   "cell_type": "code",
   "execution_count": 13,
   "metadata": {},
   "outputs": [],
   "source": [
    "# check number of rows in the file\n",
    "rows = df_i94.count()"
   ]
  },
  {
   "cell_type": "code",
   "execution_count": 14,
   "metadata": {},
   "outputs": [
    {
     "data": {
      "text/plain": [
       "3096313"
      ]
     },
     "execution_count": 14,
     "metadata": {},
     "output_type": "execute_result"
    }
   ],
   "source": [
    "rows"
   ]
  },
  {
   "cell_type": "code",
   "execution_count": 16,
   "metadata": {},
   "outputs": [
    {
     "name": "stdout",
     "output_type": "stream",
     "text": [
      "The percentage of NULL value in cicid is : 0.0\n",
      "The percentage of NULL value in i94yr is : 0.0\n",
      "The percentage of NULL value in i94mon is : 0.0\n",
      "The percentage of NULL value in i94cit is : 0.0\n",
      "The percentage of NULL value in i94res is : 0.0\n",
      "The percentage of NULL value in i94port is : 0.0\n",
      "The percentage of NULL value in arrdate is : 0.0\n",
      "The percentage of NULL value in i94mode is : 7.718857880324114e-05\n",
      "The percentage of NULL value in i94addr is : 0.04928183940060323\n",
      "The percentage of NULL value in depdate is : 0.04600859150867499\n",
      "The percentage of NULL value in i94bir is : 0.00025901774142342846\n",
      "The percentage of NULL value in i94visa is : 0.0\n",
      "The percentage of NULL value in count is : 0.0\n",
      "The percentage of NULL value in dtadfile is : 3.2296476486711774e-07\n",
      "The percentage of NULL value in visapost is : 0.6075774639062653\n",
      "The percentage of NULL value in occup is : 0.9973755883206898\n",
      "The percentage of NULL value in entdepa is : 7.686561403837402e-05\n",
      "The percentage of NULL value in entdepd is : 0.044707689435790246\n",
      "The percentage of NULL value in entdepu is : 0.9998733978121721\n",
      "The percentage of NULL value in matflag is : 0.044707689435790246\n",
      "The percentage of NULL value in biryear is : 0.00025901774142342846\n",
      "The percentage of NULL value in dtaddto is : 0.00015405419284161517\n",
      "The percentage of NULL value in gender is : 0.133794290176736\n",
      "The percentage of NULL value in insnum is : 0.9632763225164898\n",
      "The percentage of NULL value in airline is : 0.02700857439154246\n",
      "The percentage of NULL value in admnum is : 0.0\n",
      "The percentage of NULL value in fltno is : 0.006313638188387285\n",
      "The percentage of NULL value in visatype is : 0.0\n"
     ]
    }
   ],
   "source": [
    "# check percentage of null columns\n",
    "for col in df_i94.columns:\n",
    "    print(f\"The percentage of NULL value in {col} is :\", df_i94.filter(df_i94[col].isNull()).count() / rows)"
   ]
  },
  {
   "cell_type": "markdown",
   "metadata": {},
   "source": [
    "Column `occup`, `entdepu` and `insum` had over 90% NULL values. They should not be used in the analysis."
   ]
  },
  {
   "cell_type": "code",
   "execution_count": 17,
   "metadata": {},
   "outputs": [],
   "source": [
    "df_immigrant = df_i94.selectExpr('cast(cicid as int)', 'cast(i94yr as int) as entry_year', 'cast(i94mon as int) as entry_month', 'cast(i94res as int) as origin_country_code', \n",
    "             'i94port as entry_port_code', 'cast(i94mode as int)', 'i94bir as age', 'gender', 'visatype')"
   ]
  },
  {
   "cell_type": "code",
   "execution_count": 18,
   "metadata": {},
   "outputs": [
    {
     "name": "stdout",
     "output_type": "stream",
     "text": [
      "+-----+----------+-----------+-------------------+---------------+-------+----+------+--------+\n",
      "|cicid|entry_year|entry_month|origin_country_code|entry_port_code|i94mode| age|gender|visatype|\n",
      "+-----+----------+-----------+-------------------+---------------+-------+----+------+--------+\n",
      "|    6|      2016|          4|                692|            XXX|   null|37.0|  null|      B2|\n",
      "|    7|      2016|          4|                276|            ATL|      1|25.0|     M|      F1|\n",
      "|   15|      2016|          4|                101|            WAS|      1|55.0|     M|      B2|\n",
      "|   16|      2016|          4|                101|            NYC|      1|28.0|  null|      B2|\n",
      "|   17|      2016|          4|                101|            NYC|      1| 4.0|  null|      B2|\n",
      "+-----+----------+-----------+-------------------+---------------+-------+----+------+--------+\n",
      "only showing top 5 rows\n",
      "\n"
     ]
    }
   ],
   "source": [
    "df_immigrant.show(5)"
   ]
  },
  {
   "cell_type": "markdown",
   "metadata": {},
   "source": [
    "### US City Monthly Temperature"
   ]
  },
  {
   "cell_type": "code",
   "execution_count": 19,
   "metadata": {},
   "outputs": [],
   "source": [
    "df_temp = spark.read.format('csv').load('../../data2/GlobalLandTemperaturesByCity.csv', header=True, inferSchema=True)"
   ]
  },
  {
   "cell_type": "code",
   "execution_count": 20,
   "metadata": {},
   "outputs": [
    {
     "name": "stdout",
     "output_type": "stream",
     "text": [
      "root\n",
      " |-- dt: timestamp (nullable = true)\n",
      " |-- AverageTemperature: double (nullable = true)\n",
      " |-- AverageTemperatureUncertainty: double (nullable = true)\n",
      " |-- City: string (nullable = true)\n",
      " |-- Country: string (nullable = true)\n",
      " |-- Latitude: string (nullable = true)\n",
      " |-- Longitude: string (nullable = true)\n",
      "\n"
     ]
    }
   ],
   "source": [
    "df_temp.printSchema()"
   ]
  },
  {
   "cell_type": "code",
   "execution_count": 21,
   "metadata": {},
   "outputs": [
    {
     "name": "stdout",
     "output_type": "stream",
     "text": [
      "+-------------------+------------------+-----------------------------+-----+-------+--------+---------+\n",
      "|                 dt|AverageTemperature|AverageTemperatureUncertainty| City|Country|Latitude|Longitude|\n",
      "+-------------------+------------------+-----------------------------+-----+-------+--------+---------+\n",
      "|1743-11-01 00:00:00|             6.068|           1.7369999999999999|Århus|Denmark|  57.05N|   10.33E|\n",
      "|1743-12-01 00:00:00|              null|                         null|Århus|Denmark|  57.05N|   10.33E|\n",
      "|1744-01-01 00:00:00|              null|                         null|Århus|Denmark|  57.05N|   10.33E|\n",
      "|1744-02-01 00:00:00|              null|                         null|Århus|Denmark|  57.05N|   10.33E|\n",
      "|1744-03-01 00:00:00|              null|                         null|Århus|Denmark|  57.05N|   10.33E|\n",
      "+-------------------+------------------+-----------------------------+-----+-------+--------+---------+\n",
      "only showing top 5 rows\n",
      "\n"
     ]
    }
   ],
   "source": [
    "df_temp.show(5)"
   ]
  },
  {
   "cell_type": "code",
   "execution_count": 24,
   "metadata": {},
   "outputs": [
    {
     "name": "stdout",
     "output_type": "stream",
     "text": [
      "+-----------+\n",
      "|    Country|\n",
      "+-----------+\n",
      "|       Chad|\n",
      "|     Russia|\n",
      "|   Paraguay|\n",
      "|      Yemen|\n",
      "|    Senegal|\n",
      "|     Sweden|\n",
      "|     Guyana|\n",
      "|      Burma|\n",
      "|Philippines|\n",
      "|    Eritrea|\n",
      "|   Djibouti|\n",
      "|   Malaysia|\n",
      "|  Singapore|\n",
      "|     Turkey|\n",
      "|     Malawi|\n",
      "|       Iraq|\n",
      "|    Germany|\n",
      "|Afghanistan|\n",
      "|   Cambodia|\n",
      "|     Jordan|\n",
      "+-----------+\n",
      "only showing top 20 rows\n",
      "\n"
     ]
    }
   ],
   "source": [
    "df_temp.select('Country').distinct().show()"
   ]
  },
  {
   "cell_type": "markdown",
   "metadata": {},
   "source": [
    "This data set contains temperature from each country. We only need `United States` for our analysis. Need to do the filter to only select US cities."
   ]
  },
  {
   "cell_type": "code",
   "execution_count": 18,
   "metadata": {},
   "outputs": [
    {
     "name": "stdout",
     "output_type": "stream",
     "text": [
      "+-------------------+------------------+--------+-------+-------------+\n",
      "|               date|          avg_temp|temp_std|   city|      country|\n",
      "+-------------------+------------------+--------+-------+-------------+\n",
      "|1820-01-01 00:00:00|2.1010000000000004|   3.217|Abilene|United States|\n",
      "|1820-02-01 00:00:00|             6.926|   2.853|Abilene|United States|\n",
      "|1820-03-01 00:00:00|            10.767|   2.395|Abilene|United States|\n",
      "|1820-04-01 00:00:00|17.988999999999994|   2.202|Abilene|United States|\n",
      "|1820-05-01 00:00:00|            21.809|   2.036|Abilene|United States|\n",
      "+-------------------+------------------+--------+-------+-------------+\n",
      "only showing top 5 rows\n",
      "\n"
     ]
    }
   ],
   "source": [
    "df_temp.filter(\"Country = 'United States'\").selectExpr('dt as date', 'AverageTemperature as avg_temp', \n",
    "                                                       'AverageTemperatureUncertainty as temp_std', 'city as city',\n",
    "                                                      'Country as country').show(5)"
   ]
  },
  {
   "cell_type": "markdown",
   "metadata": {},
   "source": [
    "### City Airport"
   ]
  },
  {
   "cell_type": "code",
   "execution_count": 3,
   "metadata": {},
   "outputs": [],
   "source": [
    "df_air = spark.read.format('csv').load('airport-codes_csv.csv', header=True, inferSchema=True)"
   ]
  },
  {
   "cell_type": "code",
   "execution_count": 4,
   "metadata": {},
   "outputs": [
    {
     "name": "stdout",
     "output_type": "stream",
     "text": [
      "root\n",
      " |-- ident: string (nullable = true)\n",
      " |-- type: string (nullable = true)\n",
      " |-- name: string (nullable = true)\n",
      " |-- elevation_ft: integer (nullable = true)\n",
      " |-- continent: string (nullable = true)\n",
      " |-- iso_country: string (nullable = true)\n",
      " |-- iso_region: string (nullable = true)\n",
      " |-- municipality: string (nullable = true)\n",
      " |-- gps_code: string (nullable = true)\n",
      " |-- iata_code: string (nullable = true)\n",
      " |-- local_code: string (nullable = true)\n",
      " |-- coordinates: string (nullable = true)\n",
      "\n"
     ]
    }
   ],
   "source": [
    "df_air.printSchema()"
   ]
  },
  {
   "cell_type": "code",
   "execution_count": 5,
   "metadata": {},
   "outputs": [
    {
     "name": "stdout",
     "output_type": "stream",
     "text": [
      "+-----+-------------+--------------------+------------+---------+-----------+----------+------------+--------+---------+----------+--------------------+\n",
      "|ident|         type|                name|elevation_ft|continent|iso_country|iso_region|municipality|gps_code|iata_code|local_code|         coordinates|\n",
      "+-----+-------------+--------------------+------------+---------+-----------+----------+------------+--------+---------+----------+--------------------+\n",
      "|  00A|     heliport|   Total Rf Heliport|          11|       NA|         US|     US-PA|    Bensalem|     00A|     null|       00A|-74.9336013793945...|\n",
      "| 00AA|small_airport|Aero B Ranch Airport|        3435|       NA|         US|     US-KS|       Leoti|    00AA|     null|      00AA|-101.473911, 38.7...|\n",
      "| 00AK|small_airport|        Lowell Field|         450|       NA|         US|     US-AK|Anchor Point|    00AK|     null|      00AK|-151.695999146, 5...|\n",
      "| 00AL|small_airport|        Epps Airpark|         820|       NA|         US|     US-AL|     Harvest|    00AL|     null|      00AL|-86.7703018188476...|\n",
      "| 00AR|       closed|Newport Hospital ...|         237|       NA|         US|     US-AR|     Newport|    null|     null|      null| -91.254898, 35.6087|\n",
      "+-----+-------------+--------------------+------------+---------+-----------+----------+------------+--------+---------+----------+--------------------+\n",
      "only showing top 5 rows\n",
      "\n"
     ]
    }
   ],
   "source": [
    "df_air.show(5)"
   ]
  },
  {
   "cell_type": "code",
   "execution_count": 6,
   "metadata": {},
   "outputs": [],
   "source": [
    "df_air_p = df_air.select(\"*\").toPandas()"
   ]
  },
  {
   "cell_type": "code",
   "execution_count": 11,
   "metadata": {},
   "outputs": [
    {
     "data": {
      "text/plain": [
       "array(['US', 'PR', 'MH', 'MP', 'GU', 'SO', 'AQ', 'GB', 'PG', 'AD', 'SD',\n",
       "       'SA', 'AE', 'SS', 'ES', 'CN', 'AF', 'LK', 'SB', 'CO', 'AU', 'MG',\n",
       "       'TD', 'AL', 'AM', 'MX', 'MZ', 'PW', 'NR', 'AO', 'AR', 'AS', 'AT',\n",
       "       'ZZ', 'GA', 'AZ', 'BA', 'BB', 'BE', 'DE', 'BF', 'BG', 'GL', 'BH',\n",
       "       'BI', 'IS', 'BJ', 'OM', 'XK', 'BM', 'KE', 'PH', 'BO', 'BR', 'BS',\n",
       "       'CV', 'BW', 'FJ', 'BY', 'UA', 'LR', 'BZ', 'CA', 'CD', 'CF', 'CG',\n",
       "       'MR', 'CH', 'CL', 'CM', 'MA', 'CR', 'CU', 'CY', 'CZ', 'SK', 'PA',\n",
       "       'DZ', 'ID', 'GH', 'RU', 'CI', 'DK', 'NG', 'DO', 'NE', 'HR', 'TN',\n",
       "       'TG', 'EC', 'EE', 'FI', 'EG', 'GG', 'JE', 'IM', 'FK', 'EH', 'NL',\n",
       "       'IE', 'FO', 'LU', 'NO', 'PL', 'ER', 'MN', 'PT', 'SE', 'ET', 'LV',\n",
       "       'LT', 'ZA', 'SZ', 'GQ', 'SH', 'MU', 'IO', 'ZM', 'FM', 'KM', 'YT',\n",
       "       'RE', 'TF', 'ST', 'FR', 'SC', 'ZW', 'MW', 'LS', 'NA', 'ML', 'GM',\n",
       "       'GE', 'GF', 'SL', 'GW', 'GN', 'SN', 'GR', 'GT', 'TZ', 'GY', 'SR',\n",
       "       'DJ', 'HK', 'LY', 'HN', 'VN', 'KZ', 'RW', 'HT', 'HU', 'UG', 'TL',\n",
       "       'IL', 'IN', 'IQ', 'IR', 'JP', 'IT', 'JM', 'JO', 'KG', 'BD', 'KI',\n",
       "       'KH', 'KP', 'KR', 'KW', 'LA', 'MY', 'PM', 'SI', 'PS', 'MT', 'MC',\n",
       "       'RO', 'LI', 'TR', 'MD', 'MK', 'GI', 'RS', 'ME', 'TC', 'GD', 'MM',\n",
       "       'NI', 'SV', 'MF', 'MV', 'KY', 'NC', 'CK', 'TO', 'TV', 'NU', 'WF',\n",
       "       'NP', 'WS', 'PF', 'VU', 'NZ', 'LB', 'PK', 'SY', 'QA', 'YE', 'UM',\n",
       "       'PE', 'TH', 'PY', 'TW', 'SG', 'VI', 'SM', 'UY', 'VE', 'AG', 'DM',\n",
       "       'GP', 'MQ', 'BL', 'TJ', 'KN', 'LC', 'TM', 'AW', 'BQ', 'CW', 'SX',\n",
       "       'AI', 'MS', 'TT', 'VG', 'VC', 'UZ', 'VA', 'MO', 'BT', 'BN', 'CC',\n",
       "       'CX', 'NF'], dtype=object)"
      ]
     },
     "execution_count": 11,
     "metadata": {},
     "output_type": "execute_result"
    }
   ],
   "source": [
    "# check how many countries are listed in the data set\n",
    "df_air_p.iso_country.unique()"
   ]
  },
  {
   "cell_type": "code",
   "execution_count": 15,
   "metadata": {},
   "outputs": [
    {
     "name": "stdout",
     "output_type": "stream",
     "text": [
      "+----------+--------------------+-----+\n",
      "|iso_region|        municipality|count|\n",
      "+----------+--------------------+-----+\n",
      "|     US-CA|         Pine Valley|    2|\n",
      "|     US-TX|              Austin|   25|\n",
      "|     US-ID|                Kuna|    4|\n",
      "|     US-OR|         Eagle Point|    4|\n",
      "|     US-PA|      Fairless Hills|    1|\n",
      "|     US-AR|         Springfield|    1|\n",
      "|     US-IL|             Donovan|    2|\n",
      "|     US-AK|Fairbanks /Ft Wai...|    2|\n",
      "|     US-AZ|              Mcneal|    1|\n",
      "|     US-CA|            Torrance|    4|\n",
      "|     US-IL|               Flora|    2|\n",
      "|     US-NY|           Esperance|    3|\n",
      "|     US-MS|           Tylertown|    2|\n",
      "|     US-OK|             Shawnee|    4|\n",
      "|     US-TX|           Kingsland|    3|\n",
      "|     US-NJ|               Salem|    5|\n",
      "|     US-NY|             Kendall|    1|\n",
      "|     US-VA|              Norton|    3|\n",
      "|     US-KS|           Mc Donald|    2|\n",
      "|     US-OR|             Dillard|    1|\n",
      "+----------+--------------------+-----+\n",
      "only showing top 20 rows\n",
      "\n"
     ]
    }
   ],
   "source": [
    "# check whether each combination of iso_region and municipality has multiple rows \n",
    "df_air.filter(\"iso_country='US'\").groupby(df_air.iso_region, df_air.municipality).count().show()"
   ]
  },
  {
   "cell_type": "code",
   "execution_count": 12,
   "metadata": {},
   "outputs": [
    {
     "data": {
      "text/html": [
       "<div>\n",
       "<style scoped>\n",
       "    .dataframe tbody tr th:only-of-type {\n",
       "        vertical-align: middle;\n",
       "    }\n",
       "\n",
       "    .dataframe tbody tr th {\n",
       "        vertical-align: top;\n",
       "    }\n",
       "\n",
       "    .dataframe thead th {\n",
       "        text-align: right;\n",
       "    }\n",
       "</style>\n",
       "<table border=\"1\" class=\"dataframe\">\n",
       "  <thead>\n",
       "    <tr style=\"text-align: right;\">\n",
       "      <th></th>\n",
       "      <th>ident</th>\n",
       "      <th>type</th>\n",
       "      <th>name</th>\n",
       "      <th>elevation_ft</th>\n",
       "      <th>continent</th>\n",
       "      <th>iso_country</th>\n",
       "      <th>iso_region</th>\n",
       "      <th>municipality</th>\n",
       "      <th>gps_code</th>\n",
       "      <th>iata_code</th>\n",
       "      <th>local_code</th>\n",
       "      <th>coordinates</th>\n",
       "    </tr>\n",
       "  </thead>\n",
       "  <tbody>\n",
       "    <tr>\n",
       "      <th>296</th>\n",
       "      <td>04TA</td>\n",
       "      <td>heliport</td>\n",
       "      <td>Capitol National Bank Building Heliport</td>\n",
       "      <td>540.0</td>\n",
       "      <td>NA</td>\n",
       "      <td>US</td>\n",
       "      <td>US-TX</td>\n",
       "      <td>Austin</td>\n",
       "      <td>04TA</td>\n",
       "      <td>None</td>\n",
       "      <td>04TA</td>\n",
       "      <td>-97.7446975708, 30.271041666699997</td>\n",
       "    </tr>\n",
       "    <tr>\n",
       "      <th>1712</th>\n",
       "      <td>18TS</td>\n",
       "      <td>heliport</td>\n",
       "      <td>Brackenridge Hospital Heliport</td>\n",
       "      <td>519.0</td>\n",
       "      <td>NA</td>\n",
       "      <td>US</td>\n",
       "      <td>US-TX</td>\n",
       "      <td>Austin</td>\n",
       "      <td>18TS</td>\n",
       "      <td>None</td>\n",
       "      <td>18TS</td>\n",
       "      <td>-97.73419952392578, 30.273799896240234</td>\n",
       "    </tr>\n",
       "    <tr>\n",
       "      <th>1766</th>\n",
       "      <td>19TS</td>\n",
       "      <td>heliport</td>\n",
       "      <td>Kvue-Tv Heliport</td>\n",
       "      <td>780.0</td>\n",
       "      <td>NA</td>\n",
       "      <td>US</td>\n",
       "      <td>US-TX</td>\n",
       "      <td>Austin</td>\n",
       "      <td>19TS</td>\n",
       "      <td>None</td>\n",
       "      <td>19TS</td>\n",
       "      <td>-97.73729705810547, 32.3651008605957</td>\n",
       "    </tr>\n",
       "    <tr>\n",
       "      <th>2375</th>\n",
       "      <td>1XS5</td>\n",
       "      <td>heliport</td>\n",
       "      <td>Austin Diagnostic Medical Center Heliport</td>\n",
       "      <td>720.0</td>\n",
       "      <td>NA</td>\n",
       "      <td>US</td>\n",
       "      <td>US-TX</td>\n",
       "      <td>Austin</td>\n",
       "      <td>1XS5</td>\n",
       "      <td>None</td>\n",
       "      <td>1XS5</td>\n",
       "      <td>-97.7074966430664, 30.412200927734375</td>\n",
       "    </tr>\n",
       "    <tr>\n",
       "      <th>2546</th>\n",
       "      <td>22TX</td>\n",
       "      <td>heliport</td>\n",
       "      <td>South Austin Medical Center Heliport</td>\n",
       "      <td>687.0</td>\n",
       "      <td>NA</td>\n",
       "      <td>US</td>\n",
       "      <td>US-TX</td>\n",
       "      <td>Austin</td>\n",
       "      <td>22TX</td>\n",
       "      <td>None</td>\n",
       "      <td>22TX</td>\n",
       "      <td>-97.773889, 30.225556</td>\n",
       "    </tr>\n",
       "    <tr>\n",
       "      <th>3783</th>\n",
       "      <td>32TS</td>\n",
       "      <td>heliport</td>\n",
       "      <td>Seton Medical Center H-4 Heliport</td>\n",
       "      <td>582.0</td>\n",
       "      <td>NA</td>\n",
       "      <td>US</td>\n",
       "      <td>US-TX</td>\n",
       "      <td>Austin</td>\n",
       "      <td>32TS</td>\n",
       "      <td>None</td>\n",
       "      <td>32TS</td>\n",
       "      <td>-97.74579620361328, 30.304399490356445</td>\n",
       "    </tr>\n",
       "    <tr>\n",
       "      <th>4712</th>\n",
       "      <td>3XA6</td>\n",
       "      <td>heliport</td>\n",
       "      <td>Dell Children'S Medical Center Heliport</td>\n",
       "      <td>644.0</td>\n",
       "      <td>NA</td>\n",
       "      <td>US</td>\n",
       "      <td>US-TX</td>\n",
       "      <td>Austin</td>\n",
       "      <td>3XA6</td>\n",
       "      <td>None</td>\n",
       "      <td>3XA6</td>\n",
       "      <td>-97.708, 30.304667</td>\n",
       "    </tr>\n",
       "    <tr>\n",
       "      <th>5651</th>\n",
       "      <td>4TS9</td>\n",
       "      <td>heliport</td>\n",
       "      <td>Ossiport Heliport</td>\n",
       "      <td>818.0</td>\n",
       "      <td>NA</td>\n",
       "      <td>US</td>\n",
       "      <td>US-TX</td>\n",
       "      <td>Austin</td>\n",
       "      <td>4TS9</td>\n",
       "      <td>None</td>\n",
       "      <td>4TS9</td>\n",
       "      <td>-97.8677978515625, 30.32379913330078</td>\n",
       "    </tr>\n",
       "    <tr>\n",
       "      <th>7555</th>\n",
       "      <td>6R4</td>\n",
       "      <td>closed</td>\n",
       "      <td>Bird's Nest Airport</td>\n",
       "      <td>615.0</td>\n",
       "      <td>NA</td>\n",
       "      <td>US</td>\n",
       "      <td>US-TX</td>\n",
       "      <td>Austin</td>\n",
       "      <td>6R4</td>\n",
       "      <td>None</td>\n",
       "      <td>6R4</td>\n",
       "      <td>-97.56729888919999, 30.3966007233</td>\n",
       "    </tr>\n",
       "    <tr>\n",
       "      <th>8528</th>\n",
       "      <td>7TX2</td>\n",
       "      <td>heliport</td>\n",
       "      <td>Falcon's Nest Heliport</td>\n",
       "      <td>900.0</td>\n",
       "      <td>NA</td>\n",
       "      <td>US</td>\n",
       "      <td>US-TX</td>\n",
       "      <td>Austin</td>\n",
       "      <td>7TX2</td>\n",
       "      <td>None</td>\n",
       "      <td>7TX2</td>\n",
       "      <td>-97.87670135498047, 30.419200897216797</td>\n",
       "    </tr>\n",
       "    <tr>\n",
       "      <th>25535</th>\n",
       "      <td>K3R9</td>\n",
       "      <td>small_airport</td>\n",
       "      <td>Lakeway Airpark</td>\n",
       "      <td>909.0</td>\n",
       "      <td>NA</td>\n",
       "      <td>US</td>\n",
       "      <td>US-TX</td>\n",
       "      <td>Austin</td>\n",
       "      <td>K3R9</td>\n",
       "      <td>None</td>\n",
       "      <td>3R9</td>\n",
       "      <td>-97.99449920654297, 30.357500076293945</td>\n",
       "    </tr>\n",
       "    <tr>\n",
       "      <th>26137</th>\n",
       "      <td>KAUS</td>\n",
       "      <td>large_airport</td>\n",
       "      <td>Austin Bergstrom International Airport</td>\n",
       "      <td>542.0</td>\n",
       "      <td>NA</td>\n",
       "      <td>US</td>\n",
       "      <td>US-TX</td>\n",
       "      <td>Austin</td>\n",
       "      <td>KAUS</td>\n",
       "      <td>AUS</td>\n",
       "      <td>AUS</td>\n",
       "      <td>-97.6698989868164, 30.194499969482422</td>\n",
       "    </tr>\n",
       "    <tr>\n",
       "      <th>26999</th>\n",
       "      <td>KEDC</td>\n",
       "      <td>small_airport</td>\n",
       "      <td>Austin Executive Airport</td>\n",
       "      <td>620.0</td>\n",
       "      <td>NA</td>\n",
       "      <td>US</td>\n",
       "      <td>US-TX</td>\n",
       "      <td>Austin</td>\n",
       "      <td>KEDC</td>\n",
       "      <td>None</td>\n",
       "      <td>EDC</td>\n",
       "      <td>-97.5663935, 30.3974931</td>\n",
       "    </tr>\n",
       "    <tr>\n",
       "      <th>47751</th>\n",
       "      <td>TE94</td>\n",
       "      <td>heliport</td>\n",
       "      <td>Starflight Facility Heliport</td>\n",
       "      <td>554.0</td>\n",
       "      <td>NA</td>\n",
       "      <td>US</td>\n",
       "      <td>US-TX</td>\n",
       "      <td>Austin</td>\n",
       "      <td>TE94</td>\n",
       "      <td>None</td>\n",
       "      <td>TE94</td>\n",
       "      <td>-97.65670013427734, 30.321399688720703</td>\n",
       "    </tr>\n",
       "    <tr>\n",
       "      <th>48003</th>\n",
       "      <td>TS23</td>\n",
       "      <td>heliport</td>\n",
       "      <td>Mgm Heliport</td>\n",
       "      <td>540.0</td>\n",
       "      <td>NA</td>\n",
       "      <td>US</td>\n",
       "      <td>US-TX</td>\n",
       "      <td>Austin</td>\n",
       "      <td>TS23</td>\n",
       "      <td>None</td>\n",
       "      <td>TS23</td>\n",
       "      <td>-97.90609741210938, 30.337400436401367</td>\n",
       "    </tr>\n",
       "    <tr>\n",
       "      <th>48152</th>\n",
       "      <td>TX05</td>\n",
       "      <td>small_airport</td>\n",
       "      <td>Dryden Airport</td>\n",
       "      <td>500.0</td>\n",
       "      <td>NA</td>\n",
       "      <td>US</td>\n",
       "      <td>US-TX</td>\n",
       "      <td>Austin</td>\n",
       "      <td>TX05</td>\n",
       "      <td>None</td>\n",
       "      <td>TX05</td>\n",
       "      <td>-97.62529755, 30.26049995</td>\n",
       "    </tr>\n",
       "    <tr>\n",
       "      <th>48173</th>\n",
       "      <td>TX26</td>\n",
       "      <td>heliport</td>\n",
       "      <td>Mabry AHP /NG/ Heliport</td>\n",
       "      <td>670.0</td>\n",
       "      <td>NA</td>\n",
       "      <td>US</td>\n",
       "      <td>US-TX</td>\n",
       "      <td>Austin</td>\n",
       "      <td>TX26</td>\n",
       "      <td>None</td>\n",
       "      <td>TX26</td>\n",
       "      <td>-97.76699829, 30.31690025</td>\n",
       "    </tr>\n",
       "    <tr>\n",
       "      <th>49076</th>\n",
       "      <td>US-0062</td>\n",
       "      <td>small_airport</td>\n",
       "      <td>Austin Executive Airport</td>\n",
       "      <td>620.0</td>\n",
       "      <td>NA</td>\n",
       "      <td>US</td>\n",
       "      <td>US-TX</td>\n",
       "      <td>Austin</td>\n",
       "      <td>EDC</td>\n",
       "      <td>None</td>\n",
       "      <td>EDC</td>\n",
       "      <td>-97.566394, 30.397493</td>\n",
       "    </tr>\n",
       "    <tr>\n",
       "      <th>49298</th>\n",
       "      <td>US-0284</td>\n",
       "      <td>heliport</td>\n",
       "      <td>Circuit of the Americas Helipad</td>\n",
       "      <td>NaN</td>\n",
       "      <td>NA</td>\n",
       "      <td>US</td>\n",
       "      <td>US-TX</td>\n",
       "      <td>Austin</td>\n",
       "      <td>None</td>\n",
       "      <td>None</td>\n",
       "      <td>None</td>\n",
       "      <td>-97.63848, 30.13185</td>\n",
       "    </tr>\n",
       "    <tr>\n",
       "      <th>49797</th>\n",
       "      <td>US-0782</td>\n",
       "      <td>heliport</td>\n",
       "      <td>Dell Seton Medical Center Heliport</td>\n",
       "      <td>613.0</td>\n",
       "      <td>NA</td>\n",
       "      <td>US</td>\n",
       "      <td>US-TX</td>\n",
       "      <td>Austin</td>\n",
       "      <td>68TX</td>\n",
       "      <td>None</td>\n",
       "      <td>68TX</td>\n",
       "      <td>-97.734388, 30.27575</td>\n",
       "    </tr>\n",
       "    <tr>\n",
       "      <th>49847</th>\n",
       "      <td>US-0832</td>\n",
       "      <td>heliport</td>\n",
       "      <td>Varnell Heliport</td>\n",
       "      <td>950.0</td>\n",
       "      <td>NA</td>\n",
       "      <td>US</td>\n",
       "      <td>US-TX</td>\n",
       "      <td>Austin</td>\n",
       "      <td>5TA7</td>\n",
       "      <td>None</td>\n",
       "      <td>5TA7</td>\n",
       "      <td>-97.960985, 30.18213</td>\n",
       "    </tr>\n",
       "    <tr>\n",
       "      <th>50044</th>\n",
       "      <td>US-1028</td>\n",
       "      <td>closed</td>\n",
       "      <td>Barton Oaks Heliport</td>\n",
       "      <td>560.0</td>\n",
       "      <td>NA</td>\n",
       "      <td>US</td>\n",
       "      <td>US-TX</td>\n",
       "      <td>Austin</td>\n",
       "      <td>None</td>\n",
       "      <td>None</td>\n",
       "      <td>None</td>\n",
       "      <td>-97.780596, 30.26395</td>\n",
       "    </tr>\n",
       "    <tr>\n",
       "      <th>52537</th>\n",
       "      <td>XA24</td>\n",
       "      <td>heliport</td>\n",
       "      <td>Tom Dye Heliport</td>\n",
       "      <td>1165.0</td>\n",
       "      <td>NA</td>\n",
       "      <td>US</td>\n",
       "      <td>US-TX</td>\n",
       "      <td>Austin</td>\n",
       "      <td>XA24</td>\n",
       "      <td>None</td>\n",
       "      <td>XA24</td>\n",
       "      <td>-98.00189971923828, 30.300800323486328</td>\n",
       "    </tr>\n",
       "    <tr>\n",
       "      <th>52667</th>\n",
       "      <td>XS41</td>\n",
       "      <td>heliport</td>\n",
       "      <td>Heart Hospital of Austin Heliport</td>\n",
       "      <td>667.0</td>\n",
       "      <td>NA</td>\n",
       "      <td>US</td>\n",
       "      <td>US-TX</td>\n",
       "      <td>Austin</td>\n",
       "      <td>XS41</td>\n",
       "      <td>None</td>\n",
       "      <td>XS41</td>\n",
       "      <td>-97.74140167236328, 30.305999755859375</td>\n",
       "    </tr>\n",
       "    <tr>\n",
       "      <th>52691</th>\n",
       "      <td>XS65</td>\n",
       "      <td>heliport</td>\n",
       "      <td>Kitching Ranch Heliport</td>\n",
       "      <td>620.0</td>\n",
       "      <td>NA</td>\n",
       "      <td>US</td>\n",
       "      <td>US-TX</td>\n",
       "      <td>Austin</td>\n",
       "      <td>XS65</td>\n",
       "      <td>None</td>\n",
       "      <td>XS65</td>\n",
       "      <td>-97.76470184326172, 30.14739990234375</td>\n",
       "    </tr>\n",
       "  </tbody>\n",
       "</table>\n",
       "</div>"
      ],
      "text/plain": [
       "         ident           type                                       name  \\\n",
       "296       04TA       heliport    Capitol National Bank Building Heliport   \n",
       "1712      18TS       heliport             Brackenridge Hospital Heliport   \n",
       "1766      19TS       heliport                           Kvue-Tv Heliport   \n",
       "2375      1XS5       heliport  Austin Diagnostic Medical Center Heliport   \n",
       "2546      22TX       heliport       South Austin Medical Center Heliport   \n",
       "3783      32TS       heliport          Seton Medical Center H-4 Heliport   \n",
       "4712      3XA6       heliport    Dell Children'S Medical Center Heliport   \n",
       "5651      4TS9       heliport                          Ossiport Heliport   \n",
       "7555       6R4         closed                        Bird's Nest Airport   \n",
       "8528      7TX2       heliport                     Falcon's Nest Heliport   \n",
       "25535     K3R9  small_airport                            Lakeway Airpark   \n",
       "26137     KAUS  large_airport     Austin Bergstrom International Airport   \n",
       "26999     KEDC  small_airport                   Austin Executive Airport   \n",
       "47751     TE94       heliport               Starflight Facility Heliport   \n",
       "48003     TS23       heliport                               Mgm Heliport   \n",
       "48152     TX05  small_airport                             Dryden Airport   \n",
       "48173     TX26       heliport                    Mabry AHP /NG/ Heliport   \n",
       "49076  US-0062  small_airport                   Austin Executive Airport   \n",
       "49298  US-0284       heliport            Circuit of the Americas Helipad   \n",
       "49797  US-0782       heliport         Dell Seton Medical Center Heliport   \n",
       "49847  US-0832       heliport                           Varnell Heliport   \n",
       "50044  US-1028         closed                       Barton Oaks Heliport   \n",
       "52537     XA24       heliport                           Tom Dye Heliport   \n",
       "52667     XS41       heliport          Heart Hospital of Austin Heliport   \n",
       "52691     XS65       heliport                    Kitching Ranch Heliport   \n",
       "\n",
       "       elevation_ft continent iso_country iso_region municipality gps_code  \\\n",
       "296           540.0        NA          US      US-TX       Austin     04TA   \n",
       "1712          519.0        NA          US      US-TX       Austin     18TS   \n",
       "1766          780.0        NA          US      US-TX       Austin     19TS   \n",
       "2375          720.0        NA          US      US-TX       Austin     1XS5   \n",
       "2546          687.0        NA          US      US-TX       Austin     22TX   \n",
       "3783          582.0        NA          US      US-TX       Austin     32TS   \n",
       "4712          644.0        NA          US      US-TX       Austin     3XA6   \n",
       "5651          818.0        NA          US      US-TX       Austin     4TS9   \n",
       "7555          615.0        NA          US      US-TX       Austin      6R4   \n",
       "8528          900.0        NA          US      US-TX       Austin     7TX2   \n",
       "25535         909.0        NA          US      US-TX       Austin     K3R9   \n",
       "26137         542.0        NA          US      US-TX       Austin     KAUS   \n",
       "26999         620.0        NA          US      US-TX       Austin     KEDC   \n",
       "47751         554.0        NA          US      US-TX       Austin     TE94   \n",
       "48003         540.0        NA          US      US-TX       Austin     TS23   \n",
       "48152         500.0        NA          US      US-TX       Austin     TX05   \n",
       "48173         670.0        NA          US      US-TX       Austin     TX26   \n",
       "49076         620.0        NA          US      US-TX       Austin      EDC   \n",
       "49298           NaN        NA          US      US-TX       Austin     None   \n",
       "49797         613.0        NA          US      US-TX       Austin     68TX   \n",
       "49847         950.0        NA          US      US-TX       Austin     5TA7   \n",
       "50044         560.0        NA          US      US-TX       Austin     None   \n",
       "52537        1165.0        NA          US      US-TX       Austin     XA24   \n",
       "52667         667.0        NA          US      US-TX       Austin     XS41   \n",
       "52691         620.0        NA          US      US-TX       Austin     XS65   \n",
       "\n",
       "      iata_code local_code                             coordinates  \n",
       "296        None       04TA      -97.7446975708, 30.271041666699997  \n",
       "1712       None       18TS  -97.73419952392578, 30.273799896240234  \n",
       "1766       None       19TS    -97.73729705810547, 32.3651008605957  \n",
       "2375       None       1XS5   -97.7074966430664, 30.412200927734375  \n",
       "2546       None       22TX                   -97.773889, 30.225556  \n",
       "3783       None       32TS  -97.74579620361328, 30.304399490356445  \n",
       "4712       None       3XA6                      -97.708, 30.304667  \n",
       "5651       None       4TS9    -97.8677978515625, 30.32379913330078  \n",
       "7555       None        6R4       -97.56729888919999, 30.3966007233  \n",
       "8528       None       7TX2  -97.87670135498047, 30.419200897216797  \n",
       "25535      None        3R9  -97.99449920654297, 30.357500076293945  \n",
       "26137       AUS        AUS   -97.6698989868164, 30.194499969482422  \n",
       "26999      None        EDC                 -97.5663935, 30.3974931  \n",
       "47751      None       TE94  -97.65670013427734, 30.321399688720703  \n",
       "48003      None       TS23  -97.90609741210938, 30.337400436401367  \n",
       "48152      None       TX05               -97.62529755, 30.26049995  \n",
       "48173      None       TX26               -97.76699829, 30.31690025  \n",
       "49076      None        EDC                   -97.566394, 30.397493  \n",
       "49298      None       None                     -97.63848, 30.13185  \n",
       "49797      None       68TX                    -97.734388, 30.27575  \n",
       "49847      None       5TA7                    -97.960985, 30.18213  \n",
       "50044      None       None                    -97.780596, 30.26395  \n",
       "52537      None       XA24  -98.00189971923828, 30.300800323486328  \n",
       "52667      None       XS41  -97.74140167236328, 30.305999755859375  \n",
       "52691      None       XS65   -97.76470184326172, 30.14739990234375  "
      ]
     },
     "execution_count": 12,
     "metadata": {},
     "output_type": "execute_result"
    }
   ],
   "source": [
    "# each city can have multiple rows due to different airport types\n",
    "df_air_p[(df_air_p['iso_region']=='US-TX') & (df_air_p['municipality']=='Austin')]"
   ]
  },
  {
   "cell_type": "code",
   "execution_count": 21,
   "metadata": {},
   "outputs": [],
   "source": [
    "df_air.createOrReplaceTempView(\"airport_table\")"
   ]
  },
  {
   "cell_type": "code",
   "execution_count": 78,
   "metadata": {},
   "outputs": [],
   "source": [
    "df_air_transformed = spark.sql(\"\"\"\n",
    "SELECT iso_country, RIGHT(iso_region, 2) as state, municipality as city, \n",
    "        SUM(CASE WHEN type='small_airport' THEN 1 ELSE 0 END) AS small_airport,\n",
    "        SUM(CASE WHEN type='medium_airport' THEN 1 ELSE 0 END) AS medium_airport,\n",
    "        SUM(CASE WHEN type='large_airport' THEN 1 ELSE 0 END) AS large_airport\n",
    "FROM airport_table\n",
    "WHERE iso_country = 'US' AND iata_code IS NOT NULL\n",
    "GROUP BY iso_country, iso_region, municipality\n",
    "\"\"\")"
   ]
  },
  {
   "cell_type": "code",
   "execution_count": 79,
   "metadata": {},
   "outputs": [
    {
     "name": "stdout",
     "output_type": "stream",
     "text": [
      "+-----------+-----+--------------------+-------------+--------------+-------------+\n",
      "|iso_country|state|                city|small_airport|medium_airport|large_airport|\n",
      "+-----------+-----+--------------------+-------------+--------------+-------------+\n",
      "|         US|   WA|Burlington/Mount ...|            1|             0|            0|\n",
      "|         US|   KS|               Colby|            1|             0|            0|\n",
      "|         US|   OR|           La Grande|            1|             0|            0|\n",
      "|         US|   VA|            Dahlgren|            1|             0|            0|\n",
      "|         US|   AZ|          Scottsdale|            1|             0|            0|\n",
      "+-----------+-----+--------------------+-------------+--------------+-------------+\n",
      "only showing top 5 rows\n",
      "\n"
     ]
    }
   ],
   "source": [
    "df_air_transformed.show(5)"
   ]
  },
  {
   "cell_type": "markdown",
   "metadata": {},
   "source": [
    "### US City Demographics"
   ]
  },
  {
   "cell_type": "code",
   "execution_count": 16,
   "metadata": {},
   "outputs": [],
   "source": [
    "df_demo = spark.read.format('csv').load('us-cities-demographics.csv', header=True, inferSchema=True, sep=';')"
   ]
  },
  {
   "cell_type": "code",
   "execution_count": 17,
   "metadata": {},
   "outputs": [
    {
     "name": "stdout",
     "output_type": "stream",
     "text": [
      "root\n",
      " |-- City: string (nullable = true)\n",
      " |-- State: string (nullable = true)\n",
      " |-- Median Age: double (nullable = true)\n",
      " |-- Male Population: integer (nullable = true)\n",
      " |-- Female Population: integer (nullable = true)\n",
      " |-- Total Population: integer (nullable = true)\n",
      " |-- Number of Veterans: integer (nullable = true)\n",
      " |-- Foreign-born: integer (nullable = true)\n",
      " |-- Average Household Size: double (nullable = true)\n",
      " |-- State Code: string (nullable = true)\n",
      " |-- Race: string (nullable = true)\n",
      " |-- Count: integer (nullable = true)\n",
      "\n"
     ]
    }
   ],
   "source": [
    "df_demo.printSchema()"
   ]
  },
  {
   "cell_type": "code",
   "execution_count": 18,
   "metadata": {},
   "outputs": [
    {
     "name": "stdout",
     "output_type": "stream",
     "text": [
      "+----------------+-------------+----------+---------------+-----------------+----------------+------------------+------------+----------------------+----------+--------------------+-----+\n",
      "|            City|        State|Median Age|Male Population|Female Population|Total Population|Number of Veterans|Foreign-born|Average Household Size|State Code|                Race|Count|\n",
      "+----------------+-------------+----------+---------------+-----------------+----------------+------------------+------------+----------------------+----------+--------------------+-----+\n",
      "|   Silver Spring|     Maryland|      33.8|          40601|            41862|           82463|              1562|       30908|                   2.6|        MD|  Hispanic or Latino|25924|\n",
      "|          Quincy|Massachusetts|      41.0|          44129|            49500|           93629|              4147|       32935|                  2.39|        MA|               White|58723|\n",
      "|          Hoover|      Alabama|      38.5|          38040|            46799|           84839|              4819|        8229|                  2.58|        AL|               Asian| 4759|\n",
      "|Rancho Cucamonga|   California|      34.5|          88127|            87105|          175232|              5821|       33878|                  3.18|        CA|Black or African-...|24437|\n",
      "|          Newark|   New Jersey|      34.6|         138040|           143873|          281913|              5829|       86253|                  2.73|        NJ|               White|76402|\n",
      "+----------------+-------------+----------+---------------+-----------------+----------------+------------------+------------+----------------------+----------+--------------------+-----+\n",
      "only showing top 5 rows\n",
      "\n"
     ]
    }
   ],
   "source": [
    "df_demo.show(5)"
   ]
  },
  {
   "cell_type": "code",
   "execution_count": 19,
   "metadata": {},
   "outputs": [],
   "source": [
    "df_demo_p = df_demo.toPandas()"
   ]
  },
  {
   "cell_type": "code",
   "execution_count": 20,
   "metadata": {},
   "outputs": [
    {
     "data": {
      "text/html": [
       "<div>\n",
       "<style scoped>\n",
       "    .dataframe tbody tr th:only-of-type {\n",
       "        vertical-align: middle;\n",
       "    }\n",
       "\n",
       "    .dataframe tbody tr th {\n",
       "        vertical-align: top;\n",
       "    }\n",
       "\n",
       "    .dataframe thead th {\n",
       "        text-align: right;\n",
       "    }\n",
       "</style>\n",
       "<table border=\"1\" class=\"dataframe\">\n",
       "  <thead>\n",
       "    <tr style=\"text-align: right;\">\n",
       "      <th></th>\n",
       "      <th>City</th>\n",
       "      <th>State</th>\n",
       "      <th>Median Age</th>\n",
       "      <th>Male Population</th>\n",
       "      <th>Female Population</th>\n",
       "      <th>Total Population</th>\n",
       "      <th>Number of Veterans</th>\n",
       "      <th>Foreign-born</th>\n",
       "      <th>Average Household Size</th>\n",
       "      <th>State Code</th>\n",
       "      <th>Race</th>\n",
       "      <th>Count</th>\n",
       "    </tr>\n",
       "  </thead>\n",
       "  <tbody>\n",
       "    <tr>\n",
       "      <th>0</th>\n",
       "      <td>Silver Spring</td>\n",
       "      <td>Maryland</td>\n",
       "      <td>33.8</td>\n",
       "      <td>40601.0</td>\n",
       "      <td>41862.0</td>\n",
       "      <td>82463</td>\n",
       "      <td>1562.0</td>\n",
       "      <td>30908.0</td>\n",
       "      <td>2.60</td>\n",
       "      <td>MD</td>\n",
       "      <td>Hispanic or Latino</td>\n",
       "      <td>25924</td>\n",
       "    </tr>\n",
       "    <tr>\n",
       "      <th>1</th>\n",
       "      <td>Quincy</td>\n",
       "      <td>Massachusetts</td>\n",
       "      <td>41.0</td>\n",
       "      <td>44129.0</td>\n",
       "      <td>49500.0</td>\n",
       "      <td>93629</td>\n",
       "      <td>4147.0</td>\n",
       "      <td>32935.0</td>\n",
       "      <td>2.39</td>\n",
       "      <td>MA</td>\n",
       "      <td>White</td>\n",
       "      <td>58723</td>\n",
       "    </tr>\n",
       "    <tr>\n",
       "      <th>2</th>\n",
       "      <td>Hoover</td>\n",
       "      <td>Alabama</td>\n",
       "      <td>38.5</td>\n",
       "      <td>38040.0</td>\n",
       "      <td>46799.0</td>\n",
       "      <td>84839</td>\n",
       "      <td>4819.0</td>\n",
       "      <td>8229.0</td>\n",
       "      <td>2.58</td>\n",
       "      <td>AL</td>\n",
       "      <td>Asian</td>\n",
       "      <td>4759</td>\n",
       "    </tr>\n",
       "    <tr>\n",
       "      <th>3</th>\n",
       "      <td>Rancho Cucamonga</td>\n",
       "      <td>California</td>\n",
       "      <td>34.5</td>\n",
       "      <td>88127.0</td>\n",
       "      <td>87105.0</td>\n",
       "      <td>175232</td>\n",
       "      <td>5821.0</td>\n",
       "      <td>33878.0</td>\n",
       "      <td>3.18</td>\n",
       "      <td>CA</td>\n",
       "      <td>Black or African-American</td>\n",
       "      <td>24437</td>\n",
       "    </tr>\n",
       "    <tr>\n",
       "      <th>4</th>\n",
       "      <td>Newark</td>\n",
       "      <td>New Jersey</td>\n",
       "      <td>34.6</td>\n",
       "      <td>138040.0</td>\n",
       "      <td>143873.0</td>\n",
       "      <td>281913</td>\n",
       "      <td>5829.0</td>\n",
       "      <td>86253.0</td>\n",
       "      <td>2.73</td>\n",
       "      <td>NJ</td>\n",
       "      <td>White</td>\n",
       "      <td>76402</td>\n",
       "    </tr>\n",
       "  </tbody>\n",
       "</table>\n",
       "</div>"
      ],
      "text/plain": [
       "               City          State  Median Age  Male Population  \\\n",
       "0     Silver Spring       Maryland        33.8          40601.0   \n",
       "1            Quincy  Massachusetts        41.0          44129.0   \n",
       "2            Hoover        Alabama        38.5          38040.0   \n",
       "3  Rancho Cucamonga     California        34.5          88127.0   \n",
       "4            Newark     New Jersey        34.6         138040.0   \n",
       "\n",
       "   Female Population  Total Population  Number of Veterans  Foreign-born  \\\n",
       "0            41862.0             82463              1562.0       30908.0   \n",
       "1            49500.0             93629              4147.0       32935.0   \n",
       "2            46799.0             84839              4819.0        8229.0   \n",
       "3            87105.0            175232              5821.0       33878.0   \n",
       "4           143873.0            281913              5829.0       86253.0   \n",
       "\n",
       "   Average Household Size State Code                       Race  Count  \n",
       "0                    2.60         MD         Hispanic or Latino  25924  \n",
       "1                    2.39         MA                      White  58723  \n",
       "2                    2.58         AL                      Asian   4759  \n",
       "3                    3.18         CA  Black or African-American  24437  \n",
       "4                    2.73         NJ                      White  76402  "
      ]
     },
     "execution_count": 20,
     "metadata": {},
     "output_type": "execute_result"
    }
   ],
   "source": [
    "df_demo_p.head()"
   ]
  },
  {
   "cell_type": "code",
   "execution_count": 21,
   "metadata": {},
   "outputs": [
    {
     "data": {
      "text/html": [
       "<div>\n",
       "<style scoped>\n",
       "    .dataframe tbody tr th:only-of-type {\n",
       "        vertical-align: middle;\n",
       "    }\n",
       "\n",
       "    .dataframe tbody tr th {\n",
       "        vertical-align: top;\n",
       "    }\n",
       "\n",
       "    .dataframe thead th {\n",
       "        text-align: right;\n",
       "    }\n",
       "</style>\n",
       "<table border=\"1\" class=\"dataframe\">\n",
       "  <thead>\n",
       "    <tr style=\"text-align: right;\">\n",
       "      <th></th>\n",
       "      <th>Median Age</th>\n",
       "      <th>Male Population</th>\n",
       "      <th>Female Population</th>\n",
       "      <th>Total Population</th>\n",
       "      <th>Number of Veterans</th>\n",
       "      <th>Foreign-born</th>\n",
       "      <th>Average Household Size</th>\n",
       "      <th>Count</th>\n",
       "    </tr>\n",
       "  </thead>\n",
       "  <tbody>\n",
       "    <tr>\n",
       "      <th>count</th>\n",
       "      <td>2891.000000</td>\n",
       "      <td>2.888000e+03</td>\n",
       "      <td>2.888000e+03</td>\n",
       "      <td>2.891000e+03</td>\n",
       "      <td>2878.000000</td>\n",
       "      <td>2.878000e+03</td>\n",
       "      <td>2875.000000</td>\n",
       "      <td>2.891000e+03</td>\n",
       "    </tr>\n",
       "    <tr>\n",
       "      <th>mean</th>\n",
       "      <td>35.494881</td>\n",
       "      <td>9.732843e+04</td>\n",
       "      <td>1.017696e+05</td>\n",
       "      <td>1.989668e+05</td>\n",
       "      <td>9367.832523</td>\n",
       "      <td>4.065360e+04</td>\n",
       "      <td>2.742543</td>\n",
       "      <td>4.896377e+04</td>\n",
       "    </tr>\n",
       "    <tr>\n",
       "      <th>std</th>\n",
       "      <td>4.401617</td>\n",
       "      <td>2.162999e+05</td>\n",
       "      <td>2.315646e+05</td>\n",
       "      <td>4.475559e+05</td>\n",
       "      <td>13211.219924</td>\n",
       "      <td>1.557491e+05</td>\n",
       "      <td>0.433291</td>\n",
       "      <td>1.443856e+05</td>\n",
       "    </tr>\n",
       "    <tr>\n",
       "      <th>min</th>\n",
       "      <td>22.900000</td>\n",
       "      <td>2.928100e+04</td>\n",
       "      <td>2.734800e+04</td>\n",
       "      <td>6.321500e+04</td>\n",
       "      <td>416.000000</td>\n",
       "      <td>8.610000e+02</td>\n",
       "      <td>2.000000</td>\n",
       "      <td>9.800000e+01</td>\n",
       "    </tr>\n",
       "    <tr>\n",
       "      <th>25%</th>\n",
       "      <td>32.800000</td>\n",
       "      <td>3.928900e+04</td>\n",
       "      <td>4.122700e+04</td>\n",
       "      <td>8.042900e+04</td>\n",
       "      <td>3739.000000</td>\n",
       "      <td>9.224000e+03</td>\n",
       "      <td>2.430000</td>\n",
       "      <td>3.435000e+03</td>\n",
       "    </tr>\n",
       "    <tr>\n",
       "      <th>50%</th>\n",
       "      <td>35.300000</td>\n",
       "      <td>5.234100e+04</td>\n",
       "      <td>5.380900e+04</td>\n",
       "      <td>1.067820e+05</td>\n",
       "      <td>5397.000000</td>\n",
       "      <td>1.882200e+04</td>\n",
       "      <td>2.650000</td>\n",
       "      <td>1.378000e+04</td>\n",
       "    </tr>\n",
       "    <tr>\n",
       "      <th>75%</th>\n",
       "      <td>38.000000</td>\n",
       "      <td>8.664175e+04</td>\n",
       "      <td>8.960400e+04</td>\n",
       "      <td>1.752320e+05</td>\n",
       "      <td>9368.000000</td>\n",
       "      <td>3.397175e+04</td>\n",
       "      <td>2.950000</td>\n",
       "      <td>5.444700e+04</td>\n",
       "    </tr>\n",
       "    <tr>\n",
       "      <th>max</th>\n",
       "      <td>70.500000</td>\n",
       "      <td>4.081698e+06</td>\n",
       "      <td>4.468707e+06</td>\n",
       "      <td>8.550405e+06</td>\n",
       "      <td>156961.000000</td>\n",
       "      <td>3.212500e+06</td>\n",
       "      <td>4.980000</td>\n",
       "      <td>3.835726e+06</td>\n",
       "    </tr>\n",
       "  </tbody>\n",
       "</table>\n",
       "</div>"
      ],
      "text/plain": [
       "        Median Age  Male Population  Female Population  Total Population  \\\n",
       "count  2891.000000     2.888000e+03       2.888000e+03      2.891000e+03   \n",
       "mean     35.494881     9.732843e+04       1.017696e+05      1.989668e+05   \n",
       "std       4.401617     2.162999e+05       2.315646e+05      4.475559e+05   \n",
       "min      22.900000     2.928100e+04       2.734800e+04      6.321500e+04   \n",
       "25%      32.800000     3.928900e+04       4.122700e+04      8.042900e+04   \n",
       "50%      35.300000     5.234100e+04       5.380900e+04      1.067820e+05   \n",
       "75%      38.000000     8.664175e+04       8.960400e+04      1.752320e+05   \n",
       "max      70.500000     4.081698e+06       4.468707e+06      8.550405e+06   \n",
       "\n",
       "       Number of Veterans  Foreign-born  Average Household Size         Count  \n",
       "count         2878.000000  2.878000e+03             2875.000000  2.891000e+03  \n",
       "mean          9367.832523  4.065360e+04                2.742543  4.896377e+04  \n",
       "std          13211.219924  1.557491e+05                0.433291  1.443856e+05  \n",
       "min            416.000000  8.610000e+02                2.000000  9.800000e+01  \n",
       "25%           3739.000000  9.224000e+03                2.430000  3.435000e+03  \n",
       "50%           5397.000000  1.882200e+04                2.650000  1.378000e+04  \n",
       "75%           9368.000000  3.397175e+04                2.950000  5.444700e+04  \n",
       "max         156961.000000  3.212500e+06                4.980000  3.835726e+06  "
      ]
     },
     "execution_count": 21,
     "metadata": {},
     "output_type": "execute_result"
    }
   ],
   "source": [
    "df_demo_p.describe()"
   ]
  },
  {
   "cell_type": "code",
   "execution_count": 23,
   "metadata": {},
   "outputs": [
    {
     "data": {
      "text/plain": [
       "(2891, 12)"
      ]
     },
     "execution_count": 23,
     "metadata": {},
     "output_type": "execute_result"
    }
   ],
   "source": [
    "df_demo_p.shape"
   ]
  },
  {
   "cell_type": "code",
   "execution_count": 33,
   "metadata": {},
   "outputs": [],
   "source": [
    "df_demo.createOrReplaceTempView(\"demo_table\")"
   ]
  },
  {
   "cell_type": "code",
   "execution_count": 45,
   "metadata": {},
   "outputs": [],
   "source": [
    "df_demo_transformed = spark.sql(\"\"\"\n",
    "    SELECT DISTINCT City AS city, State As state, `Median Age` AS median_age, `Male Population`/`Total Population` AS male_pct,\n",
    "        `Female Population`/`Total Population` AS female_pct, `Number of Veterans`/`Total Population` AS veteran_pct,\n",
    "        `Foreign-born`/`Total Population` AS foreigner_pct\n",
    "    FROM demo_table\n",
    "\"\"\")"
   ]
  },
  {
   "cell_type": "code",
   "execution_count": 46,
   "metadata": {},
   "outputs": [
    {
     "name": "stdout",
     "output_type": "stream",
     "text": [
      "+---------------+-----------+----------+------------------+------------------+-------------------+-------------------+\n",
      "|           city|      state|median_age|          male_pct|        female_pct|        veteran_pct|      foreigner_pct|\n",
      "+---------------+-----------+----------+------------------+------------------+-------------------+-------------------+\n",
      "|       Carolina|Puerto Rico|      42.0|0.4558303886925795|0.5441696113074205|               null|               null|\n",
      "|           Ames|       Iowa|      23.0|0.5197995449794011|0.4802004550205989|0.03481829920678842|0.13229416466826538|\n",
      "|Highlands Ranch|   Colorado|      39.6|0.4800179570007905|0.5199820429992095|0.04723471947065885|0.08614480759659207|\n",
      "|          Salem|     Oregon|      35.4| 0.491294069027549| 0.508705930972451|0.05885999404411005|0.11953106482803887|\n",
      "|        Fishers|    Indiana|      34.5|0.4898397834346063|0.5101602165653937|0.02868562001138595|0.07131321815710286|\n",
      "+---------------+-----------+----------+------------------+------------------+-------------------+-------------------+\n",
      "only showing top 5 rows\n",
      "\n"
     ]
    }
   ],
   "source": [
    "df_demo_transformed.show(5)"
   ]
  },
  {
   "cell_type": "code",
   "execution_count": null,
   "metadata": {},
   "outputs": [],
   "source": []
  }
 ],
 "metadata": {
  "kernelspec": {
   "display_name": "Python 3",
   "language": "python",
   "name": "python3"
  },
  "language_info": {
   "codemirror_mode": {
    "name": "ipython",
    "version": 3
   },
   "file_extension": ".py",
   "mimetype": "text/x-python",
   "name": "python",
   "nbconvert_exporter": "python",
   "pygments_lexer": "ipython3",
   "version": "3.7.3"
  }
 },
 "nbformat": 4,
 "nbformat_minor": 4
}
